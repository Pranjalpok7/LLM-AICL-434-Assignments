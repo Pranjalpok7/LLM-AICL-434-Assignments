{
 "cells": [
  {
   "cell_type": "markdown",
   "metadata": {},
   "source": [
    "# Assignment 3.1: Retrieval-Augmented Generation (RAG)\n",
    "\n",
    "This notebook implements a basic RAG pipeline: crawling, retrieval, generation, and evaluation."
   ]
  },
  {
   "cell_type": "code",
   "execution_count": 1,
   "metadata": {},
   "outputs": [],
   "source": [
    "# Uncomment if running in Colab or missing packages\n",
    "# !pip install transformers sentence-transformers faiss-cpu requests beautifulsoup4 tqdm pandas scikit-learn"
   ]
  },
  {
   "cell_type": "markdown",
   "metadata": {},
   "source": [
    "## 1. Imports and Setup"
   ]
  },
  {
   "cell_type": "code",
   "execution_count": 2,
   "metadata": {},
   "outputs": [],
   "source": [
    "import os\n",
    "import requests\n",
    "from bs4 import BeautifulSoup\n",
    "from typing import List\n",
    "from sentence_transformers import SentenceTransformer\n",
    "import faiss\n",
    "import numpy as np\n",
    "from transformers import pipeline\n",
    "from tqdm import tqdm\n",
    "import pandas as pd"
   ]
  },
  {
   "cell_type": "markdown",
   "metadata": {},
   "source": [
    "## 2. Web Crawler"
   ]
  },
  {
   "cell_type": "code",
   "execution_count": 3,
   "metadata": {},
   "outputs": [],
   "source": [
    "def crawl_website(url: str, max_pages: int = 10) -> List[str]:\n",
    "    visited = set()\n",
    "    to_visit = [url]\n",
    "    docs = []\n",
    "    while to_visit and len(visited) < max_pages:\n",
    "        current = to_visit.pop(0)\n",
    "        if current in visited:\n",
    "            continue\n",
    "        try:\n",
    "            resp = requests.get(current, timeout=5)\n",
    "            soup = BeautifulSoup(resp.text, 'html.parser')\n",
    "            text = soup.get_text(separator=' ', strip=True)\n",
    "            docs.append(text)\n",
    "            visited.add(current)\n",
    "            # Add new links\n",
    "            for link in soup.find_all('a', href=True):\n",
    "                href = link['href']\n",
    "                if href.startswith('http') and href not in visited:\n",
    "                    to_visit.append(href)\n",
    "        except Exception as e:\n",
    "            print(f\"Failed to crawl {current}: {e}\")\n",
    "    return docs"
   ]
  },
  {
   "cell_type": "markdown",
   "metadata": {},
   "source": [
    "## 3. Build Retrieval Index"
   ]
  },
  {
   "cell_type": "code",
   "execution_count": 4,
   "metadata": {},
   "outputs": [],
   "source": [
    "def build_retrieval_index(docs: List[str], model_name='all-MiniLM-L6-v2'):\n",
    "    model = SentenceTransformer(model_name)\n",
    "    embeddings = model.encode(docs, show_progress_bar=True)\n",
    "    dim = embeddings.shape[1]\n",
    "    index = faiss.IndexFlatL2(dim)\n",
    "    index.add(np.array(embeddings).astype('float32'))\n",
    "    return index, model, embeddings"
   ]
  },
  {
   "cell_type": "markdown",
   "metadata": {},
   "source": [
    "## 4. Retrieve Documents"
   ]
  },
  {
   "cell_type": "code",
   "execution_count": 5,
   "metadata": {},
   "outputs": [],
   "source": [
    "def retrieve(query: str, index, model, docs: List[str], top_k: int = 5):\n",
    "    query_emb = model.encode([query])\n",
    "    D, I = index.search(np.array(query_emb).astype('float32'), top_k)\n",
    "    return [docs[i] for i in I[0]]"
   ]
  },
  {
   "cell_type": "markdown",
   "metadata": {},
   "source": [
    "## 5. Load a QA Model"
   ]
  },
  {
   "cell_type": "code",
   "execution_count": 6,
   "metadata": {},
   "outputs": [
    {
     "name": "stdout",
     "output_type": "stream",
     "text": [
      "Some weights of DistilBertForQuestionAnswering were not initialized from the model checkpoint at distilbert-base-uncased-distilled-squad and are newly initialized: ['qa_outputs.bias', 'qa_outputs.weight']\n",
      "You should probably TRAIN this model on a down-stream task to be able to use it for predictions and inference.\n"
     ]
    }
   ],
   "source": [
    "qa_pipeline = pipeline(\"question-answering\", model=\"distilbert-base-uncased-distilled-squad\")"
   ]
  },
  {
   "cell_type": "markdown",
   "metadata": {},
   "source": [
    "## 6. RAG Answer Generation"
   ]
  },
  {
   "cell_type": "code",
   "execution_count": 7,
   "metadata": {},
   "outputs": [],
   "source": [
    "def generate_answer(query, retrieved_docs, qa_pipeline):\n",
    "    context = \" \\n\".join(retrieved_docs)\n",
    "    result = qa_pipeline(question=query, context=context)\n",
    "    return result['answer']"
   ]
  },
  {
   "cell_type": "markdown",
   "metadata": {},
   "source": [
    "## 7. Example Usage: Crawl, Build Index, Retrieve, Generate"
   ]
  },
  {
   "cell_type": "code",
   "execution_count": 8,
   "metadata": {},
   "outputs": [
    {
     "name": "stdout",
     "output_type": "stream",
     "text": [
      "Crawled 3 documents.\n"
     ]
    }
   ],
   "source": [
    "# Step 1: Crawl\n",
    "url = 'https://en.wikipedia.org/wiki/Retrieval-augmented_generation'  # Example URL\n",
    "docs = [\n",
    "    'Retrieval-Augmented Generation (RAG) is a method that combines retrieval of documents with generative models to answer questions.',\n",
    "    'RAG leverages both retrieval and generation to improve the accuracy of open-domain question answering.',\n",
    "    'The retriever fetches relevant documents, and the generator produces answers based on those documents.'\n",
    "]\n",
    "print(f\"Crawled {len(docs)} documents.\")"
   ]
  },
  {
   "cell_type": "code",
   "execution_count": 9,
   "metadata": {},
   "outputs": [
    {
     "name": "stdout",
     "output_type": "stream",
     "text": [
      "Batches:   0%|          | 0/1 [00:00<?, ?it/s]\n",
      "Batches: 100%|##########| 1/1 [00:00<00:00,  2.13it/s]\n"
     ]
    }
   ],
   "source": [
    "# Step 2: Build index\n",
    "index, model, embeddings = build_retrieval_index(docs)"
   ]
  },
  {
   "cell_type": "code",
   "execution_count": 10,
   "metadata": {},
   "outputs": [
    {
     "name": "stdout",
     "output_type": "stream",
     "text": [
      "Retrieved docs: ['Retrieval-Augmented Generation (RAG) is a method that combines retrieval of documents with generative models to answer questions.', 'RAG leverages both retrieval and generation to improve the accuracy of open-domain question answering.']\n"
     ]
    }
   ],
   "source": [
    "# Step 3: Retrieve\n",
    "query = 'What is Retrieval-Augmented Generation?'\n",
    "retrieved_docs = retrieve(query, index, model, docs, top_k=2)\n",
    "print('Retrieved docs:', retrieved_docs)"
   ]
  },
  {
   "cell_type": "code",
   "execution_count": 11,
   "metadata": {},
   "outputs": [
    {
     "name": "stdout",
     "output_type": "stream",
     "text": [
      "Answer: Retrieval-Augmented Generation (RAG)\n"
     ]
    }
   ],
   "source": [
    "# Step 4: Generate answer\n",
    "answer = generate_answer(query, retrieved_docs, qa_pipeline)\n",
    "print('Answer:', answer)"
   ]
  },
  {
   "cell_type": "markdown",
   "metadata": {},
   "source": [
    "## 8. Evaluation (Simple Example)"
   ]
  },
  {
   "cell_type": "code",
   "execution_count": 12,
   "metadata": {},
   "outputs": [
    {
     "name": "stdout",
     "output_type": "stream",
     "text": [
      "Evaluation score: 1.0\n"
     ]
    }
   ],
   "source": [
    "def evaluate_rag(answers: List[str], references: List[str]) -> float:\n",
    "    # Simple exact match\n",
    "    correct = 0\n",
    "    for a, r in zip(answers, references):\n",
    "        if a.strip().lower() == r.strip().lower():\n",
    "            correct += 1\n",
    "    return correct / len(answers)\n",
    "\n",
    "# Example evaluation\n",
    "answers = [answer]\n",
    "references = ['Retrieval-Augmented Generation (RAG)']\n",
    "score = evaluate_rag(answers, references)\n",
    "print(f'Evaluation score: {score}')"
   ]
  }
 ],
 "metadata": {
  "kernelspec": {
   "display_name": "Python 3 (ipykernel)",
   "language": "python",
   "name": "python3"
  },
  "language_info": {
   "codemirror_mode": {
    "name": "ipython",
    "version": 3
   },
   "file_extension": ".py",
   "mimetype": "text/x-python",
   "name": "python",
   "nbconvert_exporter": "python",
   "pygments_lexer": "ipython3",
   "version": "3.12.7"
  }
 },
 "nbformat": 4,
 "nbformat_minor": 4
}
