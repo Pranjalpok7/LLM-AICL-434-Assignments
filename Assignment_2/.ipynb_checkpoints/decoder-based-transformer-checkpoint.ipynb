{
 "cells": [
  {
   "cell_type": "code",
   "execution_count": 37,
   "metadata": {
    "_cell_guid": "b1076dfc-b9ad-4769-8c92-a6c4dae69d19",
    "_uuid": "8f2839f25d086af736a60e9eeb907d3b93b6e0e5",
    "execution": {
     "iopub.execute_input": "2025-06-08T09:51:26.856591Z",
     "iopub.status.busy": "2025-06-08T09:51:26.856312Z",
     "iopub.status.idle": "2025-06-08T09:51:26.863311Z",
     "shell.execute_reply": "2025-06-08T09:51:26.862727Z",
     "shell.execute_reply.started": "2025-06-08T09:51:26.856570Z"
    }
   },
   "outputs": [
    {
     "name": "stdout",
     "output_type": "stream",
     "text": [
      "/kaggle/input/the-bards-best-a-character-modeling-dataset/validation.csv\n",
      "/kaggle/input/the-bards-best-a-character-modeling-dataset/train.csv\n",
      "/kaggle/input/the-bards-best-a-character-modeling-dataset/test.csv\n"
     ]
    }
   ],
   "source": [
    "# This Python 3 environment comes with many helpful analytics libraries installed\n",
    "# It is defined by the kaggle/python Docker image: https://github.com/kaggle/docker-python\n",
    "# For example, here's several helpful packages to load\n",
    "\n",
    "import numpy as np # linear algebra\n",
    "import pandas as pd # data processing, CSV file I/O (e.g. pd.read_csv)\n",
    "\n",
    "# Input data files are available in the read-only \"../input/\" directory\n",
    "# For example, running this (by clicking run or pressing Shift+Enter) will list all files under the input directory\n",
    "\n",
    "import os\n",
    "for dirname, _, filenames in os.walk('/kaggle/input'):\n",
    "    for filename in filenames:\n",
    "        print(os.path.join(dirname, filename))\n",
    "\n",
    "# You can write up to 20GB to the current directory (/kaggle/working/) that gets preserved as output when you create a version using \"Save & Run All\" \n",
    "# You can also write temporary files to /kaggle/temp/, but they won't be saved outside of the current session"
   ]
  },
  {
   "cell_type": "code",
   "execution_count": 38,
   "metadata": {
    "execution": {
     "iopub.execute_input": "2025-06-08T09:51:26.864950Z",
     "iopub.status.busy": "2025-06-08T09:51:26.864490Z",
     "iopub.status.idle": "2025-06-08T09:51:26.873294Z",
     "shell.execute_reply": "2025-06-08T09:51:26.872707Z",
     "shell.execute_reply.started": "2025-06-08T09:51:26.864924Z"
    }
   },
   "outputs": [],
   "source": [
    "import torch\n",
    "import torch.nn as nn\n",
    "import torch.optim as optim\n",
    "from torch.utils.data import Dataset, DataLoader\n",
    "import random\n",
    "import math\n",
    "from torch.nn import functional as F"
   ]
  },
  {
   "cell_type": "code",
   "execution_count": 39,
   "metadata": {
    "execution": {
     "iopub.execute_input": "2025-06-08T09:51:26.874274Z",
     "iopub.status.busy": "2025-06-08T09:51:26.874024Z",
     "iopub.status.idle": "2025-06-08T09:51:26.883457Z",
     "shell.execute_reply": "2025-06-08T09:51:26.882799Z",
     "shell.execute_reply.started": "2025-06-08T09:51:26.874254Z"
    }
   },
   "outputs": [],
   "source": [
    "# hyperparameters\n",
    "batch_size = 16 # how many independent sequences will we process in parallel?\n",
    "block_size = 32 # maximum context length for predictions\n",
    "max_iters = 5000\n",
    "eval_interval = 100\n",
    "learning_rate = 1e-3\n",
    "device = 'cuda' if torch.cuda.is_available() else 'cpu'\n",
    "eval_iters = 200\n",
    "n_embd = 64\n",
    "n_head = 4\n",
    "n_layer = 4\n",
    "dropout = 0.0\n",
    "# ------------"
   ]
  },
  {
   "cell_type": "code",
   "execution_count": 40,
   "metadata": {
    "execution": {
     "iopub.execute_input": "2025-06-08T09:51:26.884284Z",
     "iopub.status.busy": "2025-06-08T09:51:26.884041Z",
     "iopub.status.idle": "2025-06-08T09:51:26.960772Z",
     "shell.execute_reply": "2025-06-08T09:51:26.960083Z",
     "shell.execute_reply.started": "2025-06-08T09:51:26.884269Z"
    }
   },
   "outputs": [
    {
     "name": "stdout",
     "output_type": "stream",
     "text": [
      "Path to dataset files: /kaggle/input/the-bards-best-a-character-modeling-dataset\n"
     ]
    }
   ],
   "source": [
    "import kagglehub\n",
    "\n",
    "# Download latest version\n",
    "path = kagglehub.dataset_download(\"thedevastator/the-bards-best-a-character-modeling-dataset\")\n",
    "\n",
    "print(\"Path to dataset files:\", path)"
   ]
  },
  {
   "cell_type": "code",
   "execution_count": 41,
   "metadata": {
    "execution": {
     "iopub.execute_input": "2025-06-08T09:51:26.962381Z",
     "iopub.status.busy": "2025-06-08T09:51:26.962023Z",
     "iopub.status.idle": "2025-06-08T09:51:27.096720Z",
     "shell.execute_reply": "2025-06-08T09:51:27.096062Z",
     "shell.execute_reply.started": "2025-06-08T09:51:26.962365Z"
    }
   },
   "outputs": [
    {
     "name": "stdout",
     "output_type": "stream",
     "text": [
      "test.csv  train.csv  validation.csv\n"
     ]
    }
   ],
   "source": [
    "!ls /kaggle/input/the-bards-best-a-character-modeling-dataset"
   ]
  },
  {
   "cell_type": "code",
   "execution_count": 42,
   "metadata": {
    "execution": {
     "iopub.execute_input": "2025-06-08T09:51:27.097732Z",
     "iopub.status.busy": "2025-06-08T09:51:27.097526Z",
     "iopub.status.idle": "2025-06-08T09:51:27.102548Z",
     "shell.execute_reply": "2025-06-08T09:51:27.101824Z",
     "shell.execute_reply.started": "2025-06-08T09:51:27.097708Z"
    }
   },
   "outputs": [
    {
     "name": "stdout",
     "output_type": "stream",
     "text": [
      "/kaggle/input/the-bards-best-a-character-modeling-dataset/train.csv\n",
      "/kaggle/input/the-bards-best-a-character-modeling-dataset/test.csv\n",
      "/kaggle/input/the-bards-best-a-character-modeling-dataset/validation.csv\n"
     ]
    }
   ],
   "source": [
    "train_path = os.path.join(path,'train.csv') \n",
    "test_path = os.path.join(path,'test.csv')\n",
    "val_path = os.path.join(path, 'validation.csv')\n",
    "print(train_path)\n",
    "print(test_path)\n",
    "print(val_path)"
   ]
  },
  {
   "cell_type": "code",
   "execution_count": 43,
   "metadata": {
    "execution": {
     "iopub.execute_input": "2025-06-08T09:51:27.103520Z",
     "iopub.status.busy": "2025-06-08T09:51:27.103264Z",
     "iopub.status.idle": "2025-06-08T09:51:27.116340Z",
     "shell.execute_reply": "2025-06-08T09:51:27.115678Z",
     "shell.execute_reply.started": "2025-06-08T09:51:27.103504Z"
    }
   },
   "outputs": [],
   "source": [
    "with open(train_path,'r', encoding='utf-8') as f:\n",
    "    text = f.read()"
   ]
  },
  {
   "cell_type": "code",
   "execution_count": 44,
   "metadata": {
    "execution": {
     "iopub.execute_input": "2025-06-08T09:51:27.117324Z",
     "iopub.status.busy": "2025-06-08T09:51:27.117120Z",
     "iopub.status.idle": "2025-06-08T09:51:27.122286Z",
     "shell.execute_reply": "2025-06-08T09:51:27.121627Z",
     "shell.execute_reply.started": "2025-06-08T09:51:27.117304Z"
    }
   },
   "outputs": [
    {
     "name": "stdout",
     "output_type": "stream",
     "text": [
      "Length of train samples in characters:, 1003862\n"
     ]
    }
   ],
   "source": [
    "print(f'Length of train samples in characters:, {len(text)}')"
   ]
  },
  {
   "cell_type": "code",
   "execution_count": 45,
   "metadata": {
    "execution": {
     "iopub.execute_input": "2025-06-08T09:51:27.123243Z",
     "iopub.status.busy": "2025-06-08T09:51:27.123021Z",
     "iopub.status.idle": "2025-06-08T09:51:27.131694Z",
     "shell.execute_reply": "2025-06-08T09:51:27.131065Z",
     "shell.execute_reply.started": "2025-06-08T09:51:27.123229Z"
    }
   },
   "outputs": [
    {
     "name": "stdout",
     "output_type": "stream",
     "text": [
      "text\n",
      "\"First Citizen:\n",
      "Before we proceed any further, hear me speak.\n",
      "\n",
      "All:\n",
      "Speak, speak.\n",
      "\n",
      "First Citizen:\n",
      "You are all resolved rather to die than to famish?\n",
      "\n",
      "All:\n",
      "Resolved. resolved.\n",
      "\n",
      "First Citizen:\n",
      "First, you know Caius Marcius is chief enemy to the people.\n",
      "\n",
      "All:\n",
      "We know't, we know't.\n",
      "\n",
      "First Citizen:\n",
      "Let us kill him, and we'll have corn at our own price.\n",
      "Is't a verdict?\n",
      "\n",
      "All:\n",
      "No more talking on't; let it be done: away, away!\n",
      "\n",
      "Second Citizen:\n",
      "One word, good citizens.\n",
      "\n",
      "First Citizen:\n",
      "We are accounted poor citizens, the patricians good.\n",
      "What authority surfeits on would relieve us: if they\n",
      "would yield us but the superfluity, while it were\n",
      "wholesome, we might guess they relieved us humanely;\n",
      "but they think we are too dear: the leanness that\n",
      "afflicts us, the object of our misery, is as an\n",
      "inventory to particularise their abundance; our\n",
      "sufferance is a gain to them Let us revenge this with\n",
      "our pikes, ere we become rakes: for the gods know I\n",
      "speak this in hunger for bread, not in thirst for reven\n"
     ]
    }
   ],
   "source": [
    "# Let's look at first 1000 characters. \n",
    "print(text[:1001])"
   ]
  },
  {
   "cell_type": "code",
   "execution_count": 46,
   "metadata": {
    "execution": {
     "iopub.execute_input": "2025-06-08T09:51:27.134379Z",
     "iopub.status.busy": "2025-06-08T09:51:27.133975Z",
     "iopub.status.idle": "2025-06-08T09:51:27.153551Z",
     "shell.execute_reply": "2025-06-08T09:51:27.152864Z",
     "shell.execute_reply.started": "2025-06-08T09:51:27.134361Z"
    }
   },
   "outputs": [
    {
     "name": "stdout",
     "output_type": "stream",
     "text": [
      "\n",
      " !\"$&',-.3:;?ABCDEFGHIJKLMNOPQRSTUVWXYZabcdefghijklmnopqrstuvwxyz\n",
      "66\n"
     ]
    }
   ],
   "source": [
    "# Unique characters in the dataset\n",
    "chars = sorted(list(set(text)))\n",
    "vocab_size = len(chars)\n",
    "print(''.join(chars))\n",
    "#print(chars)\n",
    "print(vocab_size)"
   ]
  },
  {
   "cell_type": "code",
   "execution_count": 47,
   "metadata": {
    "execution": {
     "iopub.execute_input": "2025-06-08T09:51:27.154827Z",
     "iopub.status.busy": "2025-06-08T09:51:27.154584Z",
     "iopub.status.idle": "2025-06-08T09:51:27.164124Z",
     "shell.execute_reply": "2025-06-08T09:51:27.163492Z",
     "shell.execute_reply.started": "2025-06-08T09:51:27.154805Z"
    }
   },
   "outputs": [
    {
     "name": "stdout",
     "output_type": "stream",
     "text": [
      "[47, 44, 51, 51, 54, 1, 62, 54, 57, 51, 43]\n",
      "hello world\n"
     ]
    }
   ],
   "source": [
    "# Tokenization\n",
    "char_to_int = {ch:i for i,ch in enumerate(chars)}\n",
    "int_to_char = {i:ch for i,ch in enumerate(chars)}\n",
    "encode = lambda s: [char_to_int[c] for c in s] # encoder = take a string, output list of intergers\n",
    "decode = lambda l: ''.join([int_to_char[i] for i in l]) # decoder: take a list of integers, output a string\n",
    "\n",
    "# encoding\n",
    "print(encode('hello world')) # chaning char into int\n",
    "# decoding\n",
    "print(decode(encode('hello world'))) # changing same int into char\n"
   ]
  },
  {
   "cell_type": "code",
   "execution_count": 48,
   "metadata": {
    "execution": {
     "iopub.execute_input": "2025-06-08T09:51:27.165022Z",
     "iopub.status.busy": "2025-06-08T09:51:27.164758Z",
     "iopub.status.idle": "2025-06-08T09:51:27.175413Z",
     "shell.execute_reply": "2025-06-08T09:51:27.174763Z",
     "shell.execute_reply.started": "2025-06-08T09:51:27.165000Z"
    }
   },
   "outputs": [
    {
     "name": "stdout",
     "output_type": "stream",
     "text": [
      "Tokenization example: Characters to integers:\n",
      " {'\\n': 0, ' ': 1, '!': 2, '\"': 3, '$': 4, '&': 5, \"'\": 6, ',': 7, '-': 8, '.': 9, '3': 10, ':': 11, ';': 12, '?': 13, 'A': 14, 'B': 15, 'C': 16, 'D': 17, 'E': 18, 'F': 19, 'G': 20, 'H': 21, 'I': 22, 'J': 23, 'K': 24, 'L': 25, 'M': 26, 'N': 27, 'O': 28, 'P': 29, 'Q': 30, 'R': 31, 'S': 32, 'T': 33, 'U': 34, 'V': 35, 'W': 36, 'X': 37, 'Y': 38, 'Z': 39, 'a': 40, 'b': 41, 'c': 42, 'd': 43, 'e': 44, 'f': 45, 'g': 46, 'h': 47, 'i': 48, 'j': 49, 'k': 50, 'l': 51, 'm': 52, 'n': 53, 'o': 54, 'p': 55, 'q': 56, 'r': 57, 's': 58, 't': 59, 'u': 60, 'v': 61, 'w': 62, 'x': 63, 'y': 64, 'z': 65}\n"
     ]
    }
   ],
   "source": [
    "print(f\"Tokenization example: Characters to integers:\\n {char_to_int}\")"
   ]
  },
  {
   "cell_type": "code",
   "execution_count": 49,
   "metadata": {
    "execution": {
     "iopub.execute_input": "2025-06-08T09:51:27.176252Z",
     "iopub.status.busy": "2025-06-08T09:51:27.176094Z",
     "iopub.status.idle": "2025-06-08T09:51:27.187125Z",
     "shell.execute_reply": "2025-06-08T09:51:27.186481Z",
     "shell.execute_reply.started": "2025-06-08T09:51:27.176240Z"
    }
   },
   "outputs": [],
   "source": [
    "with open(test_path,'r', encoding='utf-8') as f:\n",
    "    test_text = f.read()"
   ]
  },
  {
   "cell_type": "code",
   "execution_count": 50,
   "metadata": {
    "execution": {
     "iopub.execute_input": "2025-06-08T09:51:27.187978Z",
     "iopub.status.busy": "2025-06-08T09:51:27.187784Z",
     "iopub.status.idle": "2025-06-08T09:51:27.197889Z",
     "shell.execute_reply": "2025-06-08T09:51:27.197205Z",
     "shell.execute_reply.started": "2025-06-08T09:51:27.187964Z"
    }
   },
   "outputs": [],
   "source": [
    "with open(val_path,'r', encoding='utf-8') as f:\n",
    "    val_text = f.read()"
   ]
  },
  {
   "cell_type": "code",
   "execution_count": 51,
   "metadata": {
    "execution": {
     "iopub.execute_input": "2025-06-08T09:51:27.198927Z",
     "iopub.status.busy": "2025-06-08T09:51:27.198672Z",
     "iopub.status.idle": "2025-06-08T09:51:27.206823Z",
     "shell.execute_reply": "2025-06-08T09:51:27.206204Z",
     "shell.execute_reply.started": "2025-06-08T09:51:27.198906Z"
    }
   },
   "outputs": [
    {
     "name": "stdout",
     "output_type": "stream",
     "text": [
      "55778\n",
      "55778\n"
     ]
    }
   ],
   "source": [
    "print(len(val_text))\n",
    "print(len(test_text))"
   ]
  },
  {
   "cell_type": "code",
   "execution_count": 52,
   "metadata": {
    "execution": {
     "iopub.execute_input": "2025-06-08T09:51:27.207671Z",
     "iopub.status.busy": "2025-06-08T09:51:27.207477Z",
     "iopub.status.idle": "2025-06-08T09:51:27.330503Z",
     "shell.execute_reply": "2025-06-08T09:51:27.329974Z",
     "shell.execute_reply.started": "2025-06-08T09:51:27.207656Z"
    }
   },
   "outputs": [
    {
     "name": "stdout",
     "output_type": "stream",
     "text": [
      "torch.Size([1003862]) torch.int64\n",
      "tensor([59, 44, 63, 59,  0,  3, 19, 48, 57, 58, 59,  1, 16, 48, 59, 48, 65, 44,\n",
      "        53, 11,  0, 15, 44, 45, 54, 57, 44,  1, 62, 44,  1, 55, 57, 54, 42, 44,\n",
      "        44, 43,  1, 40, 53, 64,  1, 45, 60, 57, 59, 47, 44, 57,  7,  1, 47, 44,\n",
      "        40, 57,  1, 52, 44,  1, 58, 55, 44, 40, 50,  9,  0,  0, 14, 51, 51, 11,\n",
      "         0, 32, 55, 44, 40, 50,  7,  1, 58, 55, 44, 40, 50,  9,  0,  0, 19, 48,\n",
      "        57, 58, 59,  1, 16, 48, 59, 48, 65, 44])\n"
     ]
    }
   ],
   "source": [
    "import torch \n",
    "train_data = torch.tensor(encode(text),dtype=torch.long)\n",
    "print(train_data.shape,train_data.dtype)\n",
    "print(train_data[:100]) "
   ]
  },
  {
   "cell_type": "code",
   "execution_count": 53,
   "metadata": {
    "execution": {
     "iopub.execute_input": "2025-06-08T09:51:27.331293Z",
     "iopub.status.busy": "2025-06-08T09:51:27.331118Z",
     "iopub.status.idle": "2025-06-08T09:51:27.342842Z",
     "shell.execute_reply": "2025-06-08T09:51:27.342299Z",
     "shell.execute_reply.started": "2025-06-08T09:51:27.331272Z"
    }
   },
   "outputs": [
    {
     "name": "stdout",
     "output_type": "stream",
     "text": [
      "torch.Size([55778]) torch.int64\n",
      "tensor([59, 44, 63, 59,  0,  3, 57, 40, 53, 42, 44,  1, 59, 40,  6, 44, 53,  0,\n",
      "        14, 58,  1, 58, 47, 40, 51, 51,  1, 62, 48, 59, 47,  1, 44, 48, 59, 47,\n",
      "        44, 57,  1, 55, 40, 57, 59,  6, 58,  1, 40, 46, 57, 44, 44, 52, 44, 53,\n",
      "        59,  1, 58, 59, 40, 53, 43, 13,  0,  0, 15, 14, 29, 33, 22, 32, 33, 14,\n",
      "        11,  0, 27, 54, 59,  1, 48, 53,  1, 52, 64,  1, 47, 54, 60, 58, 44,  7,\n",
      "         1, 25, 60, 42, 44, 53, 59, 48, 54, 12])\n"
     ]
    }
   ],
   "source": [
    "test_data = torch.tensor(encode(test_text),dtype=torch.long)\n",
    "print(test_data.shape,test_data.dtype)\n",
    "print(test_data[:100]) "
   ]
  },
  {
   "cell_type": "code",
   "execution_count": 54,
   "metadata": {
    "execution": {
     "iopub.execute_input": "2025-06-08T09:51:27.343591Z",
     "iopub.status.busy": "2025-06-08T09:51:27.343403Z",
     "iopub.status.idle": "2025-06-08T09:51:27.361508Z",
     "shell.execute_reply": "2025-06-08T09:51:27.360759Z",
     "shell.execute_reply.started": "2025-06-08T09:51:27.343577Z"
    }
   },
   "outputs": [
    {
     "name": "stdout",
     "output_type": "stream",
     "text": [
      "torch.Size([55778]) torch.int64\n",
      "tensor([59, 44, 63, 59,  0,  3, 13,  0,  0, 20, 31, 18, 26, 22, 28, 11,  0, 20,\n",
      "        54, 54, 43,  1, 52, 54, 57, 57, 54, 62,  7,  1, 53, 44, 48, 46, 47, 41,\n",
      "        54, 60, 57,  1, 15, 40, 55, 59, 48, 58, 59, 40,  9,  0,  0, 15, 14, 29,\n",
      "        33, 22, 32, 33, 14, 11,  0, 20, 54, 54, 43,  1, 52, 54, 57, 57, 54, 62,\n",
      "         7,  1, 53, 44, 48, 46, 47, 41, 54, 60, 57,  1, 20, 57, 44, 52, 48, 54,\n",
      "         9,  0, 20, 54, 43,  1, 58, 40, 61, 44])\n"
     ]
    }
   ],
   "source": [
    "val_data = torch.tensor(encode(val_text),dtype=torch.long)\n",
    "print(val_data.shape,val_data.dtype)\n",
    "print(val_data[:100]) "
   ]
  },
  {
   "cell_type": "code",
   "execution_count": null,
   "metadata": {},
   "outputs": [],
   "source": []
  },
  {
   "cell_type": "code",
   "execution_count": 55,
   "metadata": {
    "execution": {
     "iopub.execute_input": "2025-06-08T09:51:27.362780Z",
     "iopub.status.busy": "2025-06-08T09:51:27.362427Z",
     "iopub.status.idle": "2025-06-08T09:51:27.378646Z",
     "shell.execute_reply": "2025-06-08T09:51:27.377960Z",
     "shell.execute_reply.started": "2025-06-08T09:51:27.362762Z"
    }
   },
   "outputs": [
    {
     "name": "stdout",
     "output_type": "stream",
     "text": [
      "when input is tensor([59]) the target: 44\n",
      "when input is tensor([59, 44]) the target: 63\n",
      "when input is tensor([59, 44, 63]) the target: 59\n",
      "when input is tensor([59, 44, 63, 59]) the target: 0\n",
      "when input is tensor([59, 44, 63, 59,  0]) the target: 3\n",
      "when input is tensor([59, 44, 63, 59,  0,  3]) the target: 19\n",
      "when input is tensor([59, 44, 63, 59,  0,  3, 19]) the target: 48\n",
      "when input is tensor([59, 44, 63, 59,  0,  3, 19, 48]) the target: 57\n",
      "when input is tensor([59, 44, 63, 59,  0,  3, 19, 48, 57]) the target: 58\n",
      "when input is tensor([59, 44, 63, 59,  0,  3, 19, 48, 57, 58]) the target: 59\n",
      "when input is tensor([59, 44, 63, 59,  0,  3, 19, 48, 57, 58, 59]) the target: 1\n",
      "when input is tensor([59, 44, 63, 59,  0,  3, 19, 48, 57, 58, 59,  1]) the target: 16\n",
      "when input is tensor([59, 44, 63, 59,  0,  3, 19, 48, 57, 58, 59,  1, 16]) the target: 48\n",
      "when input is tensor([59, 44, 63, 59,  0,  3, 19, 48, 57, 58, 59,  1, 16, 48]) the target: 59\n",
      "when input is tensor([59, 44, 63, 59,  0,  3, 19, 48, 57, 58, 59,  1, 16, 48, 59]) the target: 48\n",
      "when input is tensor([59, 44, 63, 59,  0,  3, 19, 48, 57, 58, 59,  1, 16, 48, 59, 48]) the target: 65\n",
      "when input is tensor([59, 44, 63, 59,  0,  3, 19, 48, 57, 58, 59,  1, 16, 48, 59, 48, 65]) the target: 44\n",
      "when input is tensor([59, 44, 63, 59,  0,  3, 19, 48, 57, 58, 59,  1, 16, 48, 59, 48, 65, 44]) the target: 53\n",
      "when input is tensor([59, 44, 63, 59,  0,  3, 19, 48, 57, 58, 59,  1, 16, 48, 59, 48, 65, 44,\n",
      "        53]) the target: 11\n",
      "when input is tensor([59, 44, 63, 59,  0,  3, 19, 48, 57, 58, 59,  1, 16, 48, 59, 48, 65, 44,\n",
      "        53, 11]) the target: 0\n",
      "when input is tensor([59, 44, 63, 59,  0,  3, 19, 48, 57, 58, 59,  1, 16, 48, 59, 48, 65, 44,\n",
      "        53, 11,  0]) the target: 15\n",
      "when input is tensor([59, 44, 63, 59,  0,  3, 19, 48, 57, 58, 59,  1, 16, 48, 59, 48, 65, 44,\n",
      "        53, 11,  0, 15]) the target: 44\n",
      "when input is tensor([59, 44, 63, 59,  0,  3, 19, 48, 57, 58, 59,  1, 16, 48, 59, 48, 65, 44,\n",
      "        53, 11,  0, 15, 44]) the target: 45\n",
      "when input is tensor([59, 44, 63, 59,  0,  3, 19, 48, 57, 58, 59,  1, 16, 48, 59, 48, 65, 44,\n",
      "        53, 11,  0, 15, 44, 45]) the target: 54\n",
      "when input is tensor([59, 44, 63, 59,  0,  3, 19, 48, 57, 58, 59,  1, 16, 48, 59, 48, 65, 44,\n",
      "        53, 11,  0, 15, 44, 45, 54]) the target: 57\n",
      "when input is tensor([59, 44, 63, 59,  0,  3, 19, 48, 57, 58, 59,  1, 16, 48, 59, 48, 65, 44,\n",
      "        53, 11,  0, 15, 44, 45, 54, 57]) the target: 44\n",
      "when input is tensor([59, 44, 63, 59,  0,  3, 19, 48, 57, 58, 59,  1, 16, 48, 59, 48, 65, 44,\n",
      "        53, 11,  0, 15, 44, 45, 54, 57, 44]) the target: 1\n",
      "when input is tensor([59, 44, 63, 59,  0,  3, 19, 48, 57, 58, 59,  1, 16, 48, 59, 48, 65, 44,\n",
      "        53, 11,  0, 15, 44, 45, 54, 57, 44,  1]) the target: 62\n",
      "when input is tensor([59, 44, 63, 59,  0,  3, 19, 48, 57, 58, 59,  1, 16, 48, 59, 48, 65, 44,\n",
      "        53, 11,  0, 15, 44, 45, 54, 57, 44,  1, 62]) the target: 44\n",
      "when input is tensor([59, 44, 63, 59,  0,  3, 19, 48, 57, 58, 59,  1, 16, 48, 59, 48, 65, 44,\n",
      "        53, 11,  0, 15, 44, 45, 54, 57, 44,  1, 62, 44]) the target: 1\n",
      "when input is tensor([59, 44, 63, 59,  0,  3, 19, 48, 57, 58, 59,  1, 16, 48, 59, 48, 65, 44,\n",
      "        53, 11,  0, 15, 44, 45, 54, 57, 44,  1, 62, 44,  1]) the target: 55\n",
      "when input is tensor([59, 44, 63, 59,  0,  3, 19, 48, 57, 58, 59,  1, 16, 48, 59, 48, 65, 44,\n",
      "        53, 11,  0, 15, 44, 45, 54, 57, 44,  1, 62, 44,  1, 55]) the target: 57\n"
     ]
    }
   ],
   "source": [
    "x = train_data[:block_size]\n",
    "y = train_data[1:block_size+1]\n",
    "for t in range(block_size):\n",
    "    context = x[:t+1]\n",
    "    target = y[t]\n",
    "    print(f\"when input is {context} the target: {target}\")"
   ]
  },
  {
   "cell_type": "code",
   "execution_count": 56,
   "metadata": {
    "execution": {
     "iopub.execute_input": "2025-06-08T09:51:27.379346Z",
     "iopub.status.busy": "2025-06-08T09:51:27.379191Z",
     "iopub.status.idle": "2025-06-08T09:51:27.386941Z",
     "shell.execute_reply": "2025-06-08T09:51:27.386200Z",
     "shell.execute_reply.started": "2025-06-08T09:51:27.379334Z"
    }
   },
   "outputs": [
    {
     "name": "stdout",
     "output_type": "stream",
     "text": [
      "tensor([ 67081, 215065, 929480, 553714])\n",
      "1003862\n",
      "tensor([59, 44, 63,  ..., 44,  3,  0])\n"
     ]
    }
   ],
   "source": [
    "torch.manual_seed(1337) \n",
    "batch_size = 4 # how many independent sequences will we process in parallel \n",
    "block_size = 8 # what is the maximum context length for predicitons \n",
    "\n",
    "data = train_data \n",
    "ix = torch.randint(len(data) - block_size,(batch_size,))\n",
    "print(ix)\n",
    "print(len(data))\n",
    "print(data)"
   ]
  },
  {
   "cell_type": "code",
   "execution_count": 57,
   "metadata": {
    "execution": {
     "iopub.execute_input": "2025-06-08T09:51:27.387755Z",
     "iopub.status.busy": "2025-06-08T09:51:27.387559Z",
     "iopub.status.idle": "2025-06-08T09:51:27.395479Z",
     "shell.execute_reply": "2025-06-08T09:51:27.394948Z",
     "shell.execute_reply.started": "2025-06-08T09:51:27.387741Z"
    }
   },
   "outputs": [
    {
     "name": "stdout",
     "output_type": "stream",
     "text": [
      "[tensor([54, 57, 43,  1, 42, 54, 53, 58]), tensor([ 1, 46, 44, 53, 59, 51, 64,  1]), tensor([ 7,  1, 59, 54,  1, 43, 44, 51]), tensor([22,  1, 43, 48, 43,  1, 64, 44])]\n"
     ]
    }
   ],
   "source": [
    "a = [data[i:i+block_size] for i in ix] \n",
    "print(a)"
   ]
  },
  {
   "cell_type": "code",
   "execution_count": 58,
   "metadata": {
    "execution": {
     "iopub.execute_input": "2025-06-08T09:51:27.396403Z",
     "iopub.status.busy": "2025-06-08T09:51:27.396211Z",
     "iopub.status.idle": "2025-06-08T09:51:27.406074Z",
     "shell.execute_reply": "2025-06-08T09:51:27.405395Z",
     "shell.execute_reply.started": "2025-06-08T09:51:27.396381Z"
    }
   },
   "outputs": [
    {
     "data": {
      "text/plain": [
       "tensor([[54, 57, 43,  1, 42, 54, 53, 58],\n",
       "        [ 1, 46, 44, 53, 59, 51, 64,  1],\n",
       "        [ 7,  1, 59, 54,  1, 43, 44, 51],\n",
       "        [22,  1, 43, 48, 43,  1, 64, 44]])"
      ]
     },
     "execution_count": 58,
     "metadata": {},
     "output_type": "execute_result"
    }
   ],
   "source": [
    "x = torch.stack([data[i:i+block_size] for i in ix])\n",
    "x"
   ]
  },
  {
   "cell_type": "code",
   "execution_count": 59,
   "metadata": {
    "execution": {
     "iopub.execute_input": "2025-06-08T09:51:27.406978Z",
     "iopub.status.busy": "2025-06-08T09:51:27.406786Z",
     "iopub.status.idle": "2025-06-08T09:51:27.423024Z",
     "shell.execute_reply": "2025-06-08T09:51:27.422408Z",
     "shell.execute_reply.started": "2025-06-08T09:51:27.406955Z"
    }
   },
   "outputs": [
    {
     "name": "stdout",
     "output_type": "stream",
     "text": [
      "inputs:\n",
      "torch.Size([4, 8])\n",
      "tensor([[54, 57, 43,  1, 42, 54, 53, 58],\n",
      "        [ 1, 46, 44, 53, 59, 51, 64,  1],\n",
      "        [ 7,  1, 59, 54,  1, 43, 44, 51],\n",
      "        [22,  1, 43, 48, 43,  1, 64, 44]], device='cuda:0')\n",
      "targets:\n",
      "torch.Size([4, 8])\n",
      "tensor([[57, 43,  1, 42, 54, 53, 58, 60],\n",
      "        [46, 44, 53, 59, 51, 64,  1, 41],\n",
      "        [ 1, 59, 54,  1, 43, 44, 51, 48],\n",
      "        [ 1, 43, 48, 43,  1, 64, 44, 59]], device='cuda:0')\n",
      "--------\n",
      "when input is [54] the target: 57\n",
      "when input is [54, 57] the target: 43\n",
      "when input is [54, 57, 43] the target: 1\n",
      "when input is [54, 57, 43, 1] the target: 42\n",
      "when input is [54, 57, 43, 1, 42] the target: 54\n",
      "when input is [54, 57, 43, 1, 42, 54] the target: 53\n",
      "when input is [54, 57, 43, 1, 42, 54, 53] the target: 58\n",
      "when input is [54, 57, 43, 1, 42, 54, 53, 58] the target: 60\n",
      "when input is [1] the target: 46\n",
      "when input is [1, 46] the target: 44\n",
      "when input is [1, 46, 44] the target: 53\n",
      "when input is [1, 46, 44, 53] the target: 59\n",
      "when input is [1, 46, 44, 53, 59] the target: 51\n",
      "when input is [1, 46, 44, 53, 59, 51] the target: 64\n",
      "when input is [1, 46, 44, 53, 59, 51, 64] the target: 1\n",
      "when input is [1, 46, 44, 53, 59, 51, 64, 1] the target: 41\n",
      "when input is [7] the target: 1\n",
      "when input is [7, 1] the target: 59\n",
      "when input is [7, 1, 59] the target: 54\n",
      "when input is [7, 1, 59, 54] the target: 1\n",
      "when input is [7, 1, 59, 54, 1] the target: 43\n",
      "when input is [7, 1, 59, 54, 1, 43] the target: 44\n",
      "when input is [7, 1, 59, 54, 1, 43, 44] the target: 51\n",
      "when input is [7, 1, 59, 54, 1, 43, 44, 51] the target: 48\n",
      "when input is [22] the target: 1\n",
      "when input is [22, 1] the target: 43\n",
      "when input is [22, 1, 43] the target: 48\n",
      "when input is [22, 1, 43, 48] the target: 43\n",
      "when input is [22, 1, 43, 48, 43] the target: 1\n",
      "when input is [22, 1, 43, 48, 43, 1] the target: 64\n",
      "when input is [22, 1, 43, 48, 43, 1, 64] the target: 44\n",
      "when input is [22, 1, 43, 48, 43, 1, 64, 44] the target: 59\n"
     ]
    }
   ],
   "source": [
    "torch.manual_seed(1337) \n",
    "batch_size = 4 # how many independent sequences will we process in parallel \n",
    "block_size = 8 # what is the maximum context length for predicitons \n",
    "\n",
    "def get_batch(split):\n",
    "    '''\n",
    "    Generate and return a small batch of data of inputs x and target y\n",
    "    '''\n",
    "    data = train_data if split == 'train' else val_data\n",
    "    ix = torch.randint(len(data) - block_size,(batch_size,))\n",
    "    x = torch.stack([data[i:i+block_size] for i in ix])\n",
    "    y = torch.stack([data[i+1:i+block_size+1] for i in ix])\n",
    "    x, y = x.to(device), y.to(device)\n",
    "    return x,y\n",
    "xb,yb = get_batch('train')\n",
    "print('inputs:')\n",
    "print(xb.shape)\n",
    "print(xb)\n",
    "print('targets:')\n",
    "print(yb.shape)\n",
    "print(yb)\n",
    "\n",
    "print('--------')\n",
    "\n",
    "for b in range(batch_size): # batch dimension\n",
    "    for t in range(block_size): # time dimension \n",
    "        context = xb[b,:t+1]\n",
    "        target = yb[b,t]\n",
    "        print(f\"when input is {context.tolist()} the target: {target}\")"
   ]
  },
  {
   "cell_type": "code",
   "execution_count": 60,
   "metadata": {
    "execution": {
     "iopub.execute_input": "2025-06-08T09:51:27.425765Z",
     "iopub.status.busy": "2025-06-08T09:51:27.425573Z",
     "iopub.status.idle": "2025-06-08T09:51:27.430130Z",
     "shell.execute_reply": "2025-06-08T09:51:27.429569Z",
     "shell.execute_reply.started": "2025-06-08T09:51:27.425751Z"
    }
   },
   "outputs": [
    {
     "name": "stdout",
     "output_type": "stream",
     "text": [
      "tensor([[54, 57, 43,  1, 42, 54, 53, 58],\n",
      "        [ 1, 46, 44, 53, 59, 51, 64,  1],\n",
      "        [ 7,  1, 59, 54,  1, 43, 44, 51],\n",
      "        [22,  1, 43, 48, 43,  1, 64, 44]], device='cuda:0')\n"
     ]
    }
   ],
   "source": [
    "print(xb)"
   ]
  },
  {
   "cell_type": "markdown",
   "metadata": {},
   "source": [
    "## Positional Encoding \n",
    "Here instead of learnable positional embedding, I have implemented fixed non-learnable positinal encoding for considering the order of sequence. "
   ]
  },
  {
   "cell_type": "code",
   "execution_count": 61,
   "metadata": {
    "execution": {
     "iopub.execute_input": "2025-06-08T09:51:27.431075Z",
     "iopub.status.busy": "2025-06-08T09:51:27.430855Z",
     "iopub.status.idle": "2025-06-08T09:51:27.440003Z",
     "shell.execute_reply": "2025-06-08T09:51:27.439431Z",
     "shell.execute_reply.started": "2025-06-08T09:51:27.431059Z"
    }
   },
   "outputs": [],
   "source": [
    "class PositionalEncoding(nn.Module):\n",
    "    def __init__(self,n_embd,max_len=block_size):\n",
    "        super().__init__()\n",
    "        pe = torch.zeros(max_len,n_embd)\n",
    "        position = torch.arange(0,max_len,dtype=torch.float).unsqueeze(1)\n",
    "        div_term = torch.exp(torch.arange(0,n_embd,2).float()*(-math.log(10000.0)/ n_embd))\n",
    "        pe[:,0::2] = torch.sin(position * div_term)\n",
    "        pe[:,1::2] = torch.cos(position * div_term)\n",
    "        self.pe = pe.unsqueeze(0)\n",
    "\n",
    "    def forward(self,x):\n",
    "        return x + self.pe[:,:x.size(1)]\n",
    "        \n",
    "        \n",
    "    "
   ]
  },
  {
   "cell_type": "markdown",
   "metadata": {},
   "source": [
    "## Self-Attention"
   ]
  },
  {
   "cell_type": "code",
   "execution_count": 62,
   "metadata": {
    "execution": {
     "iopub.execute_input": "2025-06-08T09:51:27.441217Z",
     "iopub.status.busy": "2025-06-08T09:51:27.440791Z",
     "iopub.status.idle": "2025-06-08T09:51:27.454155Z",
     "shell.execute_reply": "2025-06-08T09:51:27.453621Z",
     "shell.execute_reply.started": "2025-06-08T09:51:27.441194Z"
    }
   },
   "outputs": [],
   "source": [
    "class Head(nn.Module):\n",
    "    def __init__(self,head_size):\n",
    "        super().__init__()\n",
    "        self.key = nn.Linear(n_embd,head_size,bias=False)\n",
    "        self.query = nn.Linear(n_embd,head_size,bias=False)\n",
    "        self.value = nn.Linear(n_embd,head_size,bias=False)\n",
    "        self.register_buffer('tril', torch.tril(torch.ones(block_size, block_size)))\n",
    "\n",
    "        self.dropout = nn.Dropout(dropout)\n",
    "\n",
    "    def forward(self,x):\n",
    "        B,T,C = x.shape\n",
    "        k = self.key(x)   # (B,T,C)\n",
    "        q = self.query(x) # (B,T,C)\n",
    "        # compute attention scores (\"affinities\")\n",
    "        wei = q @ k.transpose(-2,-1) * C**-0.5 # (B, T, C) @ (B, C, T) -> (B, T, T)\n",
    "        wei = wei.masked_fill(self.tril[:T, :T] == 0, float('-inf')) # (B, T, T)\n",
    "        wei = F.softmax(wei, dim=-1) # (B, T, T)\n",
    "        wei = self.dropout(wei)\n",
    "        # perform the weighted aggregation of the values\n",
    "        v = self.value(x) # (B,T,C)\n",
    "        out = wei @ v # (B, T, T) @ (B, T, C) -> (B, T, C)\n",
    "        return out\n"
   ]
  },
  {
   "cell_type": "code",
   "execution_count": 63,
   "metadata": {
    "execution": {
     "iopub.execute_input": "2025-06-08T09:51:27.455043Z",
     "iopub.status.busy": "2025-06-08T09:51:27.454841Z",
     "iopub.status.idle": "2025-06-08T09:51:27.465822Z",
     "shell.execute_reply": "2025-06-08T09:51:27.465099Z",
     "shell.execute_reply.started": "2025-06-08T09:51:27.455024Z"
    }
   },
   "outputs": [],
   "source": [
    "class MultiHeadAttention(nn.Module):\n",
    "    \"\"\" multiple heads of self-attention in parallel \"\"\"\n",
    "\n",
    "    def __init__(self, num_heads, head_size):\n",
    "        super().__init__()\n",
    "        self.heads = nn.ModuleList([Head(head_size) for _ in range(num_heads)])\n",
    "        self.proj = nn.Linear(n_embd, n_embd)\n",
    "        self.dropout = nn.Dropout(dropout)\n",
    "\n",
    "    def forward(self, x):\n",
    "        out = torch.cat([h(x) for h in self.heads], dim=-1)\n",
    "        out = self.dropout(self.proj(out))\n",
    "        return out"
   ]
  },
  {
   "cell_type": "code",
   "execution_count": 64,
   "metadata": {
    "execution": {
     "iopub.execute_input": "2025-06-08T09:51:27.466941Z",
     "iopub.status.busy": "2025-06-08T09:51:27.466528Z",
     "iopub.status.idle": "2025-06-08T09:51:27.475232Z",
     "shell.execute_reply": "2025-06-08T09:51:27.474705Z",
     "shell.execute_reply.started": "2025-06-08T09:51:27.466917Z"
    }
   },
   "outputs": [],
   "source": [
    "class FeedFoward(nn.Module):\n",
    "    \"\"\" a simple linear layer followed by a non-linearity \"\"\"\n",
    "\n",
    "    def __init__(self, n_embd):\n",
    "        super().__init__()\n",
    "        self.net = nn.Sequential(\n",
    "            nn.Linear(n_embd, 4 * n_embd),\n",
    "            nn.ReLU(),\n",
    "            nn.Linear(4 * n_embd, n_embd),\n",
    "            nn.Dropout(dropout),\n",
    "        )\n",
    "\n",
    "    def forward(self, x):\n",
    "        return self.net(x)"
   ]
  },
  {
   "cell_type": "code",
   "execution_count": 65,
   "metadata": {
    "execution": {
     "iopub.execute_input": "2025-06-08T09:51:27.476068Z",
     "iopub.status.busy": "2025-06-08T09:51:27.475889Z",
     "iopub.status.idle": "2025-06-08T09:51:27.488691Z",
     "shell.execute_reply": "2025-06-08T09:51:27.488172Z",
     "shell.execute_reply.started": "2025-06-08T09:51:27.476053Z"
    }
   },
   "outputs": [],
   "source": [
    "class Block(nn.Module):\n",
    "    \"\"\" Transformer block: communication followed by computation \"\"\"\n",
    "\n",
    "    def __init__(self, n_embd, n_head):\n",
    "        # n_embd: embedding dimension, n_head: the number of heads we'd like\n",
    "        super().__init__()\n",
    "        head_size = n_embd // n_head\n",
    "        self.sa = MultiHeadAttention(n_head, head_size)\n",
    "        self.ffwd = FeedFoward(n_embd)\n",
    "        self.ln1 = nn.LayerNorm(n_embd)\n",
    "        self.ln2 = nn.LayerNorm(n_embd)\n",
    "\n",
    "    def forward(self, x):\n",
    "        x = x + self.sa(self.ln1(x))\n",
    "        x = x + self.ffwd(self.ln2(x))\n",
    "        return x"
   ]
  },
  {
   "cell_type": "code",
   "execution_count": 66,
   "metadata": {
    "execution": {
     "iopub.execute_input": "2025-06-08T09:51:27.489946Z",
     "iopub.status.busy": "2025-06-08T09:51:27.489746Z",
     "iopub.status.idle": "2025-06-08T09:51:27.500217Z",
     "shell.execute_reply": "2025-06-08T09:51:27.499689Z",
     "shell.execute_reply.started": "2025-06-08T09:51:27.489932Z"
    }
   },
   "outputs": [],
   "source": [
    "# super simple bigram model\n",
    "class BigramLanguageModel(nn.Module):\n",
    "\n",
    "    def __init__(self):\n",
    "        super().__init__()\n",
    "        # each token directly reads off the logits for the next token from a lookup table\n",
    "        self.token_embedding_table = nn.Embedding(vocab_size, n_embd)\n",
    "        self.position_embedding_table = nn.Embedding(block_size, n_embd)\n",
    "        self.blocks = nn.Sequential(*[Block(n_embd, n_head=n_head) for _ in range(n_layer)])\n",
    "        self.ln_f = nn.LayerNorm(n_embd) # final layer norm\n",
    "        self.lm_head = nn.Linear(n_embd, vocab_size)\n",
    "\n",
    "    def forward(self, idx, targets=None):\n",
    "        B, T = idx.shape\n",
    "\n",
    "        # idx and targets are both (B,T) tensor of integers\n",
    "        tok_emb = self.token_embedding_table(idx) # (B,T,C)\n",
    "        pos_emb = self.position_embedding_table(torch.arange(T, device=device)) # (T,C)\n",
    "        x = tok_emb + pos_emb # (B,T,C)\n",
    "        x = self.blocks(x) # (B,T,C)\n",
    "        x = self.ln_f(x) # (B,T,C)\n",
    "        logits = self.lm_head(x) # (B,T,vocab_size)\n",
    "\n",
    "        if targets is None:\n",
    "            loss = None\n",
    "        else:\n",
    "            B, T, C = logits.shape\n",
    "            logits = logits.view(B*T, C)\n",
    "            targets = targets.view(B*T)\n",
    "            loss = F.cross_entropy(logits, targets)\n",
    "\n",
    "        return logits, loss\n",
    "\n",
    "    def generate(self, idx, max_new_tokens):\n",
    "        # idx is (B, T) array of indices in the current context\n",
    "        for _ in range(max_new_tokens):\n",
    "            # crop idx to the last block_size tokens\n",
    "            idx_cond = idx[:, -block_size:]\n",
    "            # get the predictions\n",
    "            logits, loss = self(idx_cond)\n",
    "            # focus only on the last time step\n",
    "            logits = logits[:, -1, :] # becomes (B, C)\n",
    "            # apply softmax to get probabilities\n",
    "            probs = F.softmax(logits, dim=-1) # (B, C)\n",
    "            # sample from the distribution\n",
    "            idx_next = torch.multinomial(probs, num_samples=1) # (B, 1)\n",
    "            # append sampled index to the running sequence\n",
    "            idx = torch.cat((idx, idx_next), dim=1) # (B, T+1)\n",
    "        return idx"
   ]
  },
  {
   "cell_type": "code",
   "execution_count": 67,
   "metadata": {
    "execution": {
     "iopub.execute_input": "2025-06-08T09:51:27.501365Z",
     "iopub.status.busy": "2025-06-08T09:51:27.500926Z",
     "iopub.status.idle": "2025-06-08T09:51:27.527568Z",
     "shell.execute_reply": "2025-06-08T09:51:27.527048Z",
     "shell.execute_reply.started": "2025-06-08T09:51:27.501347Z"
    }
   },
   "outputs": [
    {
     "name": "stdout",
     "output_type": "stream",
     "text": [
      "208322 parameters\n"
     ]
    }
   ],
   "source": [
    "model = BigramLanguageModel()\n",
    "m = model.to(device)\n",
    "# print the number of parameters in the model\n",
    "print(sum(p.numel() for p in m.parameters()), 'parameters')"
   ]
  },
  {
   "cell_type": "code",
   "execution_count": 68,
   "metadata": {
    "execution": {
     "iopub.execute_input": "2025-06-08T09:51:27.528897Z",
     "iopub.status.busy": "2025-06-08T09:51:27.528207Z",
     "iopub.status.idle": "2025-06-08T09:51:27.532204Z",
     "shell.execute_reply": "2025-06-08T09:51:27.531650Z",
     "shell.execute_reply.started": "2025-06-08T09:51:27.528875Z"
    }
   },
   "outputs": [],
   "source": [
    "# create a PyTorch optimizer\n",
    "optimizer = torch.optim.AdamW(model.parameters(), lr=learning_rate)"
   ]
  },
  {
   "cell_type": "code",
   "execution_count": 69,
   "metadata": {
    "execution": {
     "iopub.execute_input": "2025-06-08T09:51:27.533161Z",
     "iopub.status.busy": "2025-06-08T09:51:27.532902Z",
     "iopub.status.idle": "2025-06-08T09:51:27.543484Z",
     "shell.execute_reply": "2025-06-08T09:51:27.542964Z",
     "shell.execute_reply.started": "2025-06-08T09:51:27.533140Z"
    }
   },
   "outputs": [],
   "source": [
    "@torch.no_grad()\n",
    "def estimate_loss():\n",
    "    out = {}\n",
    "    model.eval()\n",
    "    for split in ['train', 'val']:\n",
    "        losses = torch.zeros(eval_iters)\n",
    "        for k in range(eval_iters):\n",
    "            X, Y = get_batch(split)\n",
    "            logits, loss = model(X, Y)\n",
    "            losses[k] = loss.item()\n",
    "        out[split] = losses.mean()\n",
    "    model.train()\n",
    "    return out\n"
   ]
  },
  {
   "cell_type": "code",
   "execution_count": 70,
   "metadata": {
    "execution": {
     "iopub.execute_input": "2025-06-08T09:51:27.544766Z",
     "iopub.status.busy": "2025-06-08T09:51:27.544195Z",
     "iopub.status.idle": "2025-06-08T09:55:16.817342Z",
     "shell.execute_reply": "2025-06-08T09:55:16.816563Z",
     "shell.execute_reply.started": "2025-06-08T09:51:27.544743Z"
    }
   },
   "outputs": [
    {
     "name": "stdout",
     "output_type": "stream",
     "text": [
      "step 0: train loss 4.3554, val loss 4.3602\n",
      "step 100: train loss 3.0748, val loss 3.0827\n",
      "step 200: train loss 2.7542, val loss 2.7328\n",
      "step 300: train loss 2.6624, val loss 2.6379\n",
      "step 400: train loss 2.5633, val loss 2.5724\n",
      "step 500: train loss 2.4953, val loss 2.5282\n",
      "step 600: train loss 2.4770, val loss 2.4759\n",
      "step 700: train loss 2.4534, val loss 2.4460\n",
      "step 800: train loss 2.4138, val loss 2.4225\n",
      "step 900: train loss 2.4359, val loss 2.4531\n",
      "step 1000: train loss 2.3750, val loss 2.4211\n",
      "step 1100: train loss 2.4304, val loss 2.3877\n",
      "step 1200: train loss 2.3767, val loss 2.3801\n",
      "step 1300: train loss 2.3510, val loss 2.3625\n",
      "step 1400: train loss 2.3631, val loss 2.3426\n",
      "step 1500: train loss 2.3146, val loss 2.3229\n",
      "step 1600: train loss 2.3107, val loss 2.3324\n",
      "step 1700: train loss 2.3060, val loss 2.3096\n",
      "step 1800: train loss 2.2664, val loss 2.2883\n",
      "step 1900: train loss 2.2849, val loss 2.2759\n",
      "step 2000: train loss 2.2722, val loss 2.3045\n",
      "step 2100: train loss 2.2607, val loss 2.2954\n",
      "step 2200: train loss 2.2788, val loss 2.2351\n",
      "step 2300: train loss 2.2453, val loss 2.2484\n",
      "step 2400: train loss 2.2293, val loss 2.2515\n",
      "step 2500: train loss 2.2584, val loss 2.2419\n",
      "step 2600: train loss 2.2118, val loss 2.2275\n",
      "step 2700: train loss 2.2000, val loss 2.2182\n",
      "step 2800: train loss 2.1854, val loss 2.1874\n",
      "step 2900: train loss 2.2017, val loss 2.2085\n",
      "step 3000: train loss 2.1761, val loss 2.2041\n",
      "step 3100: train loss 2.1963, val loss 2.2147\n",
      "step 3200: train loss 2.2018, val loss 2.2164\n",
      "step 3300: train loss 2.1741, val loss 2.2147\n",
      "step 3400: train loss 2.1582, val loss 2.1899\n",
      "step 3500: train loss 2.1952, val loss 2.2157\n",
      "step 3600: train loss 2.1574, val loss 2.1925\n",
      "step 3700: train loss 2.1668, val loss 2.2140\n",
      "step 3800: train loss 2.1813, val loss 2.1654\n",
      "step 3900: train loss 2.1354, val loss 2.1810\n",
      "step 4000: train loss 2.1178, val loss 2.1549\n",
      "step 4100: train loss 2.1678, val loss 2.1427\n",
      "step 4200: train loss 2.1315, val loss 2.2083\n",
      "step 4300: train loss 2.1129, val loss 2.1577\n",
      "step 4400: train loss 2.1482, val loss 2.1686\n",
      "step 4500: train loss 2.1540, val loss 2.1425\n",
      "step 4600: train loss 2.1222, val loss 2.1520\n",
      "step 4700: train loss 2.1320, val loss 2.1716\n",
      "step 4800: train loss 2.1417, val loss 2.1445\n",
      "step 4900: train loss 2.1239, val loss 2.1608\n",
      "step 4999: train loss 2.1201, val loss 2.1509\n"
     ]
    }
   ],
   "source": [
    "for iter in range(max_iters):\n",
    "\n",
    "    # every once in a while evaluate the loss on train and val sets\n",
    "    if iter % eval_interval == 0 or iter == max_iters - 1:\n",
    "        losses = estimate_loss()\n",
    "        print(f\"step {iter}: train loss {losses['train']:.4f}, val loss {losses['val']:.4f}\")\n",
    "\n",
    "    # sample a batch of data\n",
    "    xb, yb = get_batch('train')\n",
    "\n",
    "    # evaluate the loss\n",
    "    logits, loss = model(xb, yb)\n",
    "    optimizer.zero_grad(set_to_none=True)\n",
    "    loss.backward()\n",
    "    optimizer.step()\n"
   ]
  },
  {
   "cell_type": "code",
   "execution_count": 71,
   "metadata": {
    "execution": {
     "iopub.execute_input": "2025-06-08T09:55:16.818583Z",
     "iopub.status.busy": "2025-06-08T09:55:16.818292Z",
     "iopub.status.idle": "2025-06-08T09:55:31.968016Z",
     "shell.execute_reply": "2025-06-08T09:55:31.967189Z",
     "shell.execute_reply.started": "2025-06-08T09:55:16.818559Z"
    }
   },
   "outputs": [
    {
     "name": "stdout",
     "output_type": "stream",
     "text": [
      "\n",
      "\n",
      "Me ware ant buve bown the as laresing tay the burfy,. is bake. thou yous feithpens unsare comspoled to be of to me money in o\n",
      "Xnowrels envay pand livemch\n",
      "Martar herd, am bow kis Glabcheurss of wase on whit duialiod? him how this to. be out in to ambry govexe Itullet my loods, fuchimaly kever lost fring.,\n",
      "My pace of a.\n",
      "Hand her, and Swoule, me a and.\n",
      "\n",
      "MERSINUCHENNIONurster e thy: her Voleess in herent, onere Onour a Rillle,\n",
      "I wad!\n",
      "\n",
      "Indach, thour a this to to geht breople, man, twear, gem me unencem on my arlarth her bonge as ling of dightu, omeleats, what will. Con, waich whem prafaancance this eeroly rustsble tale\n",
      "Ham not stab his itruty, Our hanleurse, thou.\n",
      "\n",
      "KING ElELLo, as and\n",
      "Whatt cutry hy dim songe.\n",
      "Cost on frert, her and conge my.\n",
      "Twasping bortalaids of to untly vil I way Courdon Ell that will my with your ricemy,\n",
      "In what that siunm our you ploxled I whine what hem niners dittlly whonest no vosinge of stanther.D And kajly our I go\n",
      "Entoenare.\n",
      "\n",
      "ARCESBELLO:\n",
      "Yoy freset:\n",
      "Ind beforth So, benty and I efooffeds Gime:\n",
      "By valitible, dow. Wh yoer may blinge bet with\n",
      "for am'd and uls ir pourdenterh, his de parthfouth him,\n",
      "Godce,\n",
      "Thim are,\n",
      "Gurartare Hathersh be hose son thus woum, hat shale, loves to and ondh, theve mosse, thered thing hers:\n",
      "To sha ce hiGure\n",
      "it looker alk\n",
      "Gifet lenchebed noily, whe untose pens. Net, Gartlare, Pood his :\n",
      "And my souncest and proush to trear, will. by omathere on you, murtand oy make lodghtom, to nell pleeasd of I fourfour traud priler hatim to gred\n",
      "do.\n",
      "\n",
      "Rire nimblintengy\n",
      "For you for roueser, coner uf subed Batt!\n",
      "\n",
      "Inid? doversaret foo,\n",
      "Ar how and in bicoudh; bowlicK.\n",
      "\n",
      "KING LARCYOUCES:\n",
      "More ray, what, the vile, I the forspanges,\n",
      "Mellght's ling on, me. For ortry: beake.\n",
      "my dearth a berthy, tee so Hagazore'thine o's youse of mnake dargest pries and ame onoulf be no,\n",
      "Batt on ingehnoth kher fory Rome for, hon sprity to julifene more you is lay, of my lo, ruminiI, wack\n",
      "Somble son's prenciousen, slareen me Ris: efour camertul.\n",
      "Your igus will \n",
      "Love\n"
     ]
    }
   ],
   "source": [
    "# generate from the model\n",
    "context = torch.zeros((1, 1), dtype=torch.long, device=device)\n",
    "print(decode(m.generate(context, max_new_tokens=2000)[0].tolist()))"
   ]
  }
 ],
 "metadata": {
  "kaggle": {
   "accelerator": "nvidiaTeslaT4",
   "dataSources": [
    {
     "datasetId": 2660745,
     "isSourceIdPinned": false,
     "sourceId": 4558742,
     "sourceType": "datasetVersion"
    }
   ],
   "dockerImageVersionId": 31040,
   "isGpuEnabled": true,
   "isInternetEnabled": true,
   "language": "python",
   "sourceType": "notebook"
  },
  "kernelspec": {
   "display_name": "Python 3 (ipykernel)",
   "language": "python",
   "name": "python3"
  },
  "language_info": {
   "codemirror_mode": {
    "name": "ipython",
    "version": 3
   },
   "file_extension": ".py",
   "mimetype": "text/x-python",
   "name": "python",
   "nbconvert_exporter": "python",
   "pygments_lexer": "ipython3",
   "version": "3.11.11"
  }
 },
 "nbformat": 4,
 "nbformat_minor": 4
}
